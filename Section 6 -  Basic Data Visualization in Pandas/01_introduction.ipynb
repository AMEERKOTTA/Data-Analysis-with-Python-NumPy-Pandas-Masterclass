{
 "cells": [
  {
   "cell_type": "markdown",
   "metadata": {},
   "source": [
    "### BASIC DATA VISUALIZATIONS\n",
    "\n",
    "+ In this Section, will discuss about Data Visualization Tools.\n",
    "+ We will be using the plot method to Create the Charts.\n",
    "\n",
    "Different Charts are ...\n",
    "    + line charts\n",
    "    + bar charts\n",
    "    + scatter "
   ]
  }
 ],
 "metadata": {
  "kernelspec": {
   "display_name": "Python 3",
   "language": "python",
   "name": "python3"
  },
  "language_info": {
   "codemirror_mode": {
    "name": "ipython",
    "version": 3
   },
   "file_extension": ".py",
   "mimetype": "text/x-python",
   "name": "python",
   "nbconvert_exporter": "python",
   "pygments_lexer": "ipython3",
   "version": "3.8.3"
  }
 },
 "nbformat": 4,
 "nbformat_minor": 4
}
