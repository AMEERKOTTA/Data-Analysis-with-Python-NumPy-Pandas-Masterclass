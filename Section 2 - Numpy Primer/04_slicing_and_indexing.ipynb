{
 "cells": [
  {
   "cell_type": "markdown",
   "metadata": {},
   "source": [
    "### INDEXING AND SLICING\n",
    "\n",
    "+ Indexing and Slicing of `1D` array is same as Python List and Tuples.\n",
    "\n",
    "+ `array[index]` :-- index to access single element.\n",
    "+ `array[start : stop : step_size ]` :-- Slicing to access a Series of element."
   ]
  },
  {
   "cell_type": "code",
   "execution_count": 8,
   "metadata": {},
   "outputs": [],
   "source": [
    "import numpy as np\n",
    "from numpy.random import default_rng\n",
    "import random"
   ]
  },
  {
   "cell_type": "code",
   "execution_count": 3,
   "metadata": {},
   "outputs": [
    {
     "name": "stdout",
     "output_type": "stream",
     "text": [
      "vegetables\n",
      "spices\n",
      "['fruits' 'vegetables' 'cereal' 'dairy' 'eggs']\n",
      "['snacks' 'coffee' 'spices']\n"
     ]
    }
   ],
   "source": [
    "product_list = [\"fruits\", \"vegetables\", \"cereal\", \"dairy\", \"eggs\", \"snacks\", \"beverages\", \"coffee\", \"tea\", \"spices\"]\n",
    "product_array = np.array(product_list)\n",
    "print(product_array[1])\n",
    "print(product_array[-1])\n",
    "print(product_array[:5])\n",
    "print(product_array[5::2])"
   ]
  },
  {
   "cell_type": "markdown",
   "metadata": {},
   "source": [
    "+ Indexing and Slicing of `2D` array requires an extra index or slice.\n",
    "\n",
    "+ `array[row_index,column_index]` :-- index to access single element.\n",
    "+ `array[start : stop : step_size, start : stop : step_size]` :-- Slicing to access a Series of element."
   ]
  },
  {
   "cell_type": "code",
   "execution_count": 6,
   "metadata": {},
   "outputs": [
    {
     "name": "stdout",
     "output_type": "stream",
     "text": [
      "coffee\n",
      "[['cereal' 'dairy' 'eggs']\n",
      " ['coffee' 'tea' 'spices']]\n",
      "[['snacks' 'beverages' 'coffee' 'tea' 'spices']]\n"
     ]
    }
   ],
   "source": [
    "product_array2D = product_array.reshape(2,5)\n",
    "product_array2D\n",
    "\n",
    "print(product_array2D[1,2])\n",
    "print(product_array2D[:,2:])\n",
    "print(product_array2D[1:,:])"
   ]
  },
  {
   "cell_type": "markdown",
   "metadata": {},
   "source": [
    "### ASSIGNMENT"
   ]
  },
  {
   "cell_type": "code",
   "execution_count": 12,
   "metadata": {},
   "outputs": [
    {
     "data": {
      "text/plain": [
       "array([[0.22733602, 0.31675834, 0.79736546],\n",
       "       [0.67625467, 0.39110955, 0.33281393],\n",
       "       [0.59830875, 0.18673419, 0.67275604]])"
      ]
     },
     "execution_count": 12,
     "metadata": {},
     "output_type": "execute_result"
    }
   ],
   "source": [
    "rng = default_rng(12345)\n",
    "random_array = rng.random(9)\n",
    "array = random_array.reshape(3,3)\n",
    "array"
   ]
  },
  {
   "cell_type": "code",
   "execution_count": 14,
   "metadata": {},
   "outputs": [
    {
     "data": {
      "text/plain": [
       "array([[0.22733602, 0.31675834, 0.79736546],\n",
       "       [0.67625467, 0.39110955, 0.33281393]])"
      ]
     },
     "execution_count": 14,
     "metadata": {},
     "output_type": "execute_result"
    }
   ],
   "source": [
    "## index first two rows\n",
    "array[0:2]"
   ]
  },
  {
   "cell_type": "code",
   "execution_count": 16,
   "metadata": {},
   "outputs": [
    {
     "data": {
      "text/plain": [
       "array([0.22733602, 0.67625467, 0.59830875])"
      ]
     },
     "execution_count": 16,
     "metadata": {},
     "output_type": "execute_result"
    }
   ],
   "source": [
    "## first column values\n",
    "array[:,0]"
   ]
  },
  {
   "cell_type": "code",
   "execution_count": 20,
   "metadata": {},
   "outputs": [
    {
     "data": {
      "text/plain": [
       "array([0.18673419])"
      ]
     },
     "execution_count": 20,
     "metadata": {},
     "output_type": "execute_result"
    }
   ],
   "source": [
    "## second number in third row\n",
    "array[2:, 1]"
   ]
  },
  {
   "cell_type": "code",
   "execution_count": null,
   "metadata": {},
   "outputs": [],
   "source": []
  }
 ],
 "metadata": {
  "kernelspec": {
   "display_name": "Python 3",
   "language": "python",
   "name": "python3"
  },
  "language_info": {
   "codemirror_mode": {
    "name": "ipython",
    "version": 3
   },
   "file_extension": ".py",
   "mimetype": "text/x-python",
   "name": "python",
   "nbconvert_exporter": "python",
   "pygments_lexer": "ipython3",
   "version": "3.8.3"
  }
 },
 "nbformat": 4,
 "nbformat_minor": 4
}
