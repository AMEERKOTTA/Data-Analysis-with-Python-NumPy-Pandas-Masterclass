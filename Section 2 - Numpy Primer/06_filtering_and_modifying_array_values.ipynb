{
 "cells": [
  {
   "cell_type": "markdown",
   "metadata": {},
   "source": [
    "### FILETRING AND MODIFYING ARRAY VALUES\n",
    "\n",
    "+ We can filter arrays by Indexing them with a Logical Test.\n",
    "+ We can use filter arrays with Multiple Logical Test.\n",
    "+ We can use `| for OR` operation and `& for AND` operations.\n",
    "\n",
    "Modifying the Array Values\n",
    "\n",
    "+ You can modify the array values by assigning new values through indexing and we can also use the conditions as well."
   ]
  },
  {
   "cell_type": "code",
   "execution_count": 4,
   "metadata": {},
   "outputs": [
    {
     "data": {
      "text/plain": [
       "array([[   0,    5,  155,    0,  518],\n",
       "       [   0, 1827,  616,  317,  325]])"
      ]
     },
     "execution_count": 4,
     "metadata": {},
     "output_type": "execute_result"
    }
   ],
   "source": [
    "import numpy as np\n",
    "\n",
    "sales = [0, 5, 155,0, 518, 0, 1827, 616, 317, 325]\n",
    "sales_array = np.array(sales)\n",
    "sales_array = sales_array.reshape(2,5)\n",
    "sales_array"
   ]
  },
  {
   "cell_type": "code",
   "execution_count": 5,
   "metadata": {},
   "outputs": [
    {
     "data": {
      "text/plain": [
       "array([[False,  True,  True, False,  True],\n",
       "       [False,  True,  True,  True,  True]])"
      ]
     },
     "execution_count": 5,
     "metadata": {},
     "output_type": "execute_result"
    }
   ],
   "source": [
    "## logical test\n",
    "sales_array != 0"
   ]
  },
  {
   "cell_type": "code",
   "execution_count": 6,
   "metadata": {},
   "outputs": [
    {
     "data": {
      "text/plain": [
       "array([   5,  155,  518, 1827,  616,  317,  325])"
      ]
     },
     "execution_count": 6,
     "metadata": {},
     "output_type": "execute_result"
    }
   ],
   "source": [
    "## so doing the indexing for the values only non-zero\n",
    "sales_array[sales_array != 0]"
   ]
  },
  {
   "cell_type": "code",
   "execution_count": 8,
   "metadata": {},
   "outputs": [
    {
     "data": {
      "text/plain": [
       "array([  0,   5,   0,   0, 616])"
      ]
     },
     "execution_count": 8,
     "metadata": {},
     "output_type": "execute_result"
    }
   ],
   "source": [
    "## both conditions applied\n",
    "sales_array[(sales_array == 616) | (sales_array < 100)]"
   ]
  },
  {
   "cell_type": "code",
   "execution_count": 14,
   "metadata": {},
   "outputs": [
    {
     "data": {
      "text/plain": [
       "array([5])"
      ]
     },
     "execution_count": 14,
     "metadata": {},
     "output_type": "execute_result"
    }
   ],
   "source": [
    "## both conditions applied\n",
    "sales_array[(sales_array == 5) & (sales_array < 10)]"
   ]
  },
  {
   "cell_type": "code",
   "execution_count": 15,
   "metadata": {},
   "outputs": [
    {
     "data": {
      "text/plain": [
       "array([155, 317, 325])"
      ]
     },
     "execution_count": 15,
     "metadata": {},
     "output_type": "execute_result"
    }
   ],
   "source": [
    "## both conditions applied\n",
    "sales_array[(sales_array > 100) & (sales_array < 500)]"
   ]
  },
  {
   "cell_type": "code",
   "execution_count": 19,
   "metadata": {},
   "outputs": [
    {
     "data": {
      "text/plain": [
       "array([155, 518, 616, 317, 325])"
      ]
     },
     "execution_count": 19,
     "metadata": {},
     "output_type": "execute_result"
    }
   ],
   "source": [
    "## boolean mask, using boolean mask\n",
    "mask = (sales_array > 100) & (sales_array < 1000)\n",
    "## filtering\n",
    "sales_array[mask]"
   ]
  },
  {
   "cell_type": "markdown",
   "metadata": {},
   "source": [
    "Modifying the Array Values"
   ]
  },
  {
   "cell_type": "code",
   "execution_count": 25,
   "metadata": {},
   "outputs": [
    {
     "data": {
      "text/plain": [
       "array([   0,    5,  155,    0,  518,    0, 1827,  616,  317,  325])"
      ]
     },
     "execution_count": 25,
     "metadata": {},
     "output_type": "execute_result"
    }
   ],
   "source": [
    "sales = [0, 5, 155,0, 518, 0, 1827, 616, 317, 325]\n",
    "sales_array = np.array(sales)\n",
    "#sales_array = sales_array.reshape(2,5)\n",
    "sales_array"
   ]
  },
  {
   "cell_type": "code",
   "execution_count": 26,
   "metadata": {},
   "outputs": [
    {
     "data": {
      "text/plain": [
       "array([   0,   25,  155,    0,  518,    0, 1827,  616,  317,  325])"
      ]
     },
     "execution_count": 26,
     "metadata": {},
     "output_type": "execute_result"
    }
   ],
   "source": [
    "sales_array[1] = 25\n",
    "sales_array"
   ]
  },
  {
   "cell_type": "code",
   "execution_count": 27,
   "metadata": {},
   "outputs": [
    {
     "data": {
      "text/plain": [
       "array([  25,   25,  155,    0,  518,    0, 1827,  616,  317,  325])"
      ]
     },
     "execution_count": 27,
     "metadata": {},
     "output_type": "execute_result"
    }
   ],
   "source": [
    "sales_array[0] = 25\n",
    "sales_array"
   ]
  },
  {
   "cell_type": "code",
   "execution_count": 28,
   "metadata": {},
   "outputs": [
    {
     "data": {
      "text/plain": [
       "array([  25,   25,  155,  100,  518,  100, 1827,  616,  317,  325])"
      ]
     },
     "execution_count": 28,
     "metadata": {},
     "output_type": "execute_result"
    }
   ],
   "source": [
    "sales_array[sales_array == 0] = 100\n",
    "sales_array"
   ]
  },
  {
   "cell_type": "markdown",
   "metadata": {},
   "source": [
    "### THE WHERE FUNCTION\n",
    "\n",
    "+ the where() function performs a Logical Test and returns\n",
    "    + a given value if the test is True.\n",
    "    + another value if the test is False."
   ]
  },
  {
   "cell_type": "code",
   "execution_count": 29,
   "metadata": {},
   "outputs": [
    {
     "data": {
      "text/plain": [
       "array([ 12, 102,  18,   0,   0])"
      ]
     },
     "execution_count": 29,
     "metadata": {},
     "output_type": "execute_result"
    }
   ],
   "source": [
    "num_list = [12, 102, 18, 0, 0]\n",
    "inventory_array = np.array(num_list)\n",
    "inventory_array"
   ]
  },
  {
   "cell_type": "code",
   "execution_count": 36,
   "metadata": {},
   "outputs": [
    {
     "data": {
      "text/plain": [
       "array(['fruits', 'vegetables', 'cereal', 'dairy', 'eggs'], dtype='<U10')"
      ]
     },
     "execution_count": 36,
     "metadata": {},
     "output_type": "execute_result"
    }
   ],
   "source": [
    "product_list = [\"fruits\",\"vegetables\",\"cereal\",\"dairy\",\"eggs\"]\n",
    "product_array = np.array(product_list)\n",
    "product_array"
   ]
  },
  {
   "cell_type": "code",
   "execution_count": 37,
   "metadata": {},
   "outputs": [
    {
     "data": {
      "text/plain": [
       "array(['In Stock', 'In Stock', 'In Stock', 'Out of Stock', 'Out of Stock'],\n",
       "      dtype='<U12')"
      ]
     },
     "execution_count": 37,
     "metadata": {},
     "output_type": "execute_result"
    }
   ],
   "source": [
    "np.where(\n",
    "        inventory_array <= 0,\n",
    "        \"Out of Stock\",\n",
    "        \"In Stock\"\n",
    ")"
   ]
  },
  {
   "cell_type": "code",
   "execution_count": 38,
   "metadata": {},
   "outputs": [
    {
     "data": {
      "text/plain": [
       "array(['fruits', 'vegetables', 'cereal', 'Out of Stock', 'Out of Stock'],\n",
       "      dtype='<U12')"
      ]
     },
     "execution_count": 38,
     "metadata": {},
     "output_type": "execute_result"
    }
   ],
   "source": [
    "np.where(\n",
    "        inventory_array <= 0,\n",
    "        \"Out of Stock\",\n",
    "        product_array\n",
    ")"
   ]
  },
  {
   "cell_type": "markdown",
   "metadata": {},
   "source": [
    "### ASSIGNMENTS"
   ]
  },
  {
   "cell_type": "code",
   "execution_count": 51,
   "metadata": {},
   "outputs": [
    {
     "name": "stdout",
     "output_type": "stream",
     "text": [
      "['salad' 'bread' 'mustard' 'rare tomato' 'cola' 'gourmet ice cream']\n",
      "[ 5.99  6.99 22.49 99.99  4.99 49.99]\n",
      "The Products that has values greater than 25 :--- ['rare tomato' 'gourmet ice cream']\n",
      "The Products inclusing the Cola and the Proces are greater than 25 :--- ['rare tomato' 'cola' 'gourmet ice cream']\n",
      "The Fancy Feast Special :--- ['rare tomato' 'cola' 'gourmet ice cream']\n"
     ]
    }
   ],
   "source": [
    "products = np.array([\n",
    "    \"salad\",\"bread\",\"mustard\",\"rare tomato\",\"cola\",\"gourmet ice cream\"\n",
    "])\n",
    "\n",
    "print(products)\n",
    "\n",
    "prices = np.array([\n",
    "    5.99, 6.99, 22.49, 99.99, 4.99, 49.99\n",
    "])\n",
    "print(prices)\n",
    "\n",
    "## filter when teh price is greater than 25\n",
    "print(\"The Products that has values greater than 25 :---\",products[prices > 25])\n",
    "\n",
    "## filter the product like inclusing the cola, and the prices greate than 25\n",
    "mask = (prices > 25) | (products == \"cola\")\n",
    "fancy_feast_special = products[mask]\n",
    "print(\"The Products inclusing the Cola and the Proces are greater than 25 :---\",products[mask])\n",
    "print(\"The Fancy Feast Special :---\", products[mask])\n",
    "\n",
    "## we need to filter the price for shipping cost.\n",
    "## if the priice is greater than 20, then the shipping cost is 0.\n",
    "## if the price is below 20, then shipping costs 5.\n",
    "shipping_array = np.where"
   ]
  },
  {
   "cell_type": "code",
   "execution_count": null,
   "metadata": {},
   "outputs": [],
   "source": []
  }
 ],
 "metadata": {
  "kernelspec": {
   "display_name": "Python 3",
   "language": "python",
   "name": "python3"
  },
  "language_info": {
   "codemirror_mode": {
    "name": "ipython",
    "version": 3
   },
   "file_extension": ".py",
   "mimetype": "text/x-python",
   "name": "python",
   "nbconvert_exporter": "python",
   "pygments_lexer": "ipython3",
   "version": "3.8.3"
  }
 },
 "nbformat": 4,
 "nbformat_minor": 4
}
