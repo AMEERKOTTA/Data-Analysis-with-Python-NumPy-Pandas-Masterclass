{
 "cells": [
  {
   "cell_type": "markdown",
   "metadata": {},
   "source": [
    "### ARRAY CREATION\n",
    "\n",
    "Alternative Methods to Create Arrays.\n",
    "\n",
    "+ `np.ones((rows,cols), dtype)`  :--ones :- Create an array of ones of a given size, defaultly of floats.\n",
    "+ `np.zeros((rows,cols), dtype)` :--zeros :- Create an array of zeros of a given size, defaultly of floats.\n",
    "+ `np.arange(start, stop, step)` :--arange :- Create an array of integers with start, stop, and step.\n",
    "+ `np.linspace(start, stop, n)` :--linspace :- Create an array of floats with start, stop and step.\n",
    "+ `np.array.reshape(rows, cols)` :--changes an array to specified dimension, if compatible"
   ]
  },
  {
   "cell_type": "code",
   "execution_count": 5,
   "metadata": {},
   "outputs": [],
   "source": [
    "import numpy as np\n",
    "from functions import *"
   ]
  },
  {
   "cell_type": "code",
   "execution_count": 6,
   "metadata": {},
   "outputs": [
    {
     "name": "stdout",
     "output_type": "stream",
     "text": [
      " number of dimensions in an array (axes). :-- 2\n",
      " size of the array in each dimensions. :-- (100, 200)\n",
      " total number of elements in the array. :-- 20000\n",
      " data type of the element in the array. :-- float64\n"
     ]
    }
   ],
   "source": [
    "## ones\n",
    "ones = np.ones((100,200), dtype = \"float\")\n",
    "array_key_properties(ones)"
   ]
  },
  {
   "cell_type": "code",
   "execution_count": 7,
   "metadata": {},
   "outputs": [
    {
     "name": "stdout",
     "output_type": "stream",
     "text": [
      " number of dimensions in an array (axes). :-- 2\n",
      " size of the array in each dimensions. :-- (10, 20)\n",
      " total number of elements in the array. :-- 200\n",
      " data type of the element in the array. :-- int32\n"
     ]
    }
   ],
   "source": [
    "## zeros\n",
    "zeros = np.zeros((10,20), dtype = \"int\")\n",
    "array_key_properties(zeros)"
   ]
  },
  {
   "cell_type": "code",
   "execution_count": 12,
   "metadata": {},
   "outputs": [
    {
     "name": "stdout",
     "output_type": "stream",
     "text": [
      "[100 102 104 106 108 110 112 114 116 118 120 122 124 126 128 130 132 134\n",
      " 136 138 140 142 144 146 148 150 152 154 156 158 160 162 164 166 168 170\n",
      " 172 174 176 178 180 182 184 186 188 190 192 194 196 198]\n",
      " number of dimensions in an array (axes). :-- 1\n",
      " size of the array in each dimensions. :-- (50,)\n",
      " total number of elements in the array. :-- 50\n",
      " data type of the element in the array. :-- int32\n"
     ]
    }
   ],
   "source": [
    "## arange\n",
    "array_from_to = np.arange(100,200,2)\n",
    "print(array_from_to)\n",
    "array_key_properties(array_from_to)"
   ]
  },
  {
   "cell_type": "code",
   "execution_count": 17,
   "metadata": {},
   "outputs": [
    {
     "name": "stdout",
     "output_type": "stream",
     "text": [
      "[ 99.         100.02020202 101.04040404 102.06060606 103.08080808\n",
      " 104.1010101  105.12121212 106.14141414 107.16161616 108.18181818\n",
      " 109.2020202  110.22222222 111.24242424 112.26262626 113.28282828\n",
      " 114.3030303  115.32323232 116.34343434 117.36363636 118.38383838\n",
      " 119.4040404  120.42424242 121.44444444 122.46464646 123.48484848\n",
      " 124.50505051 125.52525253 126.54545455 127.56565657 128.58585859\n",
      " 129.60606061 130.62626263 131.64646465 132.66666667 133.68686869\n",
      " 134.70707071 135.72727273 136.74747475 137.76767677 138.78787879\n",
      " 139.80808081 140.82828283 141.84848485 142.86868687 143.88888889\n",
      " 144.90909091 145.92929293 146.94949495 147.96969697 148.98989899\n",
      " 150.01010101 151.03030303 152.05050505 153.07070707 154.09090909\n",
      " 155.11111111 156.13131313 157.15151515 158.17171717 159.19191919\n",
      " 160.21212121 161.23232323 162.25252525 163.27272727 164.29292929\n",
      " 165.31313131 166.33333333 167.35353535 168.37373737 169.39393939\n",
      " 170.41414141 171.43434343 172.45454545 173.47474747 174.49494949\n",
      " 175.51515152 176.53535354 177.55555556 178.57575758 179.5959596\n",
      " 180.61616162 181.63636364 182.65656566 183.67676768 184.6969697\n",
      " 185.71717172 186.73737374 187.75757576 188.77777778 189.7979798\n",
      " 190.81818182 191.83838384 192.85858586 193.87878788 194.8989899\n",
      " 195.91919192 196.93939394 197.95959596 198.97979798 200.        ]\n",
      " number of dimensions in an array (axes). :-- 1\n",
      " size of the array in each dimensions. :-- (100,)\n",
      " total number of elements in the array. :-- 100\n",
      " data type of the element in the array. :-- float64\n"
     ]
    }
   ],
   "source": [
    "## linspace\n",
    "linspace = np.linspace(99,200,100)\n",
    "print(linspace)\n",
    "array_key_properties(linspace)"
   ]
  },
  {
   "cell_type": "code",
   "execution_count": 21,
   "metadata": {},
   "outputs": [
    {
     "name": "stdout",
     "output_type": "stream",
     "text": [
      "[100 102 104 106 108 110 112 114 116 118 120 122 124 126 128 130 132 134\n",
      " 136 138 140 142 144 146 148 150 152 154 156 158 160 162 164 166 168 170\n",
      " 172 174 176 178 180 182 184 186 188 190 192 194 196 198]\n"
     ]
    },
    {
     "data": {
      "text/plain": [
       "array([[100, 102, 104, 106, 108, 110, 112, 114, 116, 118],\n",
       "       [120, 122, 124, 126, 128, 130, 132, 134, 136, 138],\n",
       "       [140, 142, 144, 146, 148, 150, 152, 154, 156, 158],\n",
       "       [160, 162, 164, 166, 168, 170, 172, 174, 176, 178],\n",
       "       [180, 182, 184, 186, 188, 190, 192, 194, 196, 198]])"
      ]
     },
     "execution_count": 21,
     "metadata": {},
     "output_type": "execute_result"
    }
   ],
   "source": [
    "## reshape\n",
    "array = np.arange(100,200,2)\n",
    "print(array)\n",
    "array.reshape(5,10)"
   ]
  },
  {
   "cell_type": "markdown",
   "metadata": {},
   "source": [
    "### RANDOM NUMBER GENERATION\n",
    "\n",
    "You can Create random number arrays of variety of Distribution using NumPy functions and Methods.\n",
    "\n",
    "1. default_rng :-- Create Random Number Generator.\n",
    "\n",
    "    `np.default_rng(seed)`\n",
    "    \n",
    "2. random :-- Return n random numbers from a uniform distribution between 0 and 1.\n",
    "\n",
    "    `rng.random(n)`\n",
    "    \n",
    "3. normal :-- Return n random numbers from a normal distribution with a given mean and standard deviation.\n",
    "\n",
    "    `rng.normal(mean,stdev,n)`"
   ]
  },
  {
   "cell_type": "code",
   "execution_count": 23,
   "metadata": {},
   "outputs": [],
   "source": [
    "from numpy.random import default_rng"
   ]
  },
  {
   "cell_type": "code",
   "execution_count": 28,
   "metadata": {},
   "outputs": [
    {
     "data": {
      "text/plain": [
       "array([0.22733602, 0.31675834, 0.79736546, 0.67625467, 0.39110955,\n",
       "       0.33281393, 0.59830875, 0.18673419, 0.67275604, 0.94180287])"
      ]
     },
     "execution_count": 28,
     "metadata": {},
     "output_type": "execute_result"
    }
   ],
   "source": [
    "rng = default_rng(12345)\n",
    "#print(rng)\n",
    "random_array = rng.random(10)\n",
    "random_array"
   ]
  },
  {
   "cell_type": "code",
   "execution_count": 29,
   "metadata": {},
   "outputs": [
    {
     "data": {
      "text/plain": [
       "array([3.57617496, 6.26372846, 4.12933826, 4.74082677, 4.92465669,\n",
       "       4.25911535, 3.6322073 , 5.6488928 , 5.36105811, 3.04713694])"
      ]
     },
     "execution_count": 29,
     "metadata": {},
     "output_type": "execute_result"
    }
   ],
   "source": [
    "rng = default_rng(12345)\n",
    "mean, stdev = 5, 1\n",
    "random_normal = rng.normal(mean, stdev, size = 10)\n",
    "random_normal"
   ]
  },
  {
   "cell_type": "markdown",
   "metadata": {},
   "source": [
    "#### ASSIGNMENT"
   ]
  },
  {
   "cell_type": "code",
   "execution_count": 37,
   "metadata": {},
   "outputs": [
    {
     "name": "stdout",
     "output_type": "stream",
     "text": [
      "[ 10  20  30  40  50  60  70  80  90 100]\n",
      "[[ 10  20]\n",
      " [ 30  40]\n",
      " [ 50  60]\n",
      " [ 70  80]\n",
      " [ 90 100]]\n"
     ]
    }
   ],
   "source": [
    "array = np.linspace(10,100,10, dtype = \"int\")\n",
    "print(array)\n",
    "print(array.reshape(5,2))"
   ]
  },
  {
   "cell_type": "code",
   "execution_count": 36,
   "metadata": {},
   "outputs": [
    {
     "data": {
      "text/plain": [
       "array([[0.22013496, 0.08159457, 0.1598956 ],\n",
       "       [0.34010018, 0.46519315, 0.26642103],\n",
       "       [0.8157764 , 0.19329439, 0.12946908]])"
      ]
     },
     "execution_count": 36,
     "metadata": {},
     "output_type": "execute_result"
    }
   ],
   "source": [
    "random_array = rng.random(9)\n",
    "random_array.reshape(3,3)"
   ]
  },
  {
   "cell_type": "code",
   "execution_count": null,
   "metadata": {},
   "outputs": [],
   "source": []
  }
 ],
 "metadata": {
  "kernelspec": {
   "display_name": "Python 3",
   "language": "python",
   "name": "python3"
  },
  "language_info": {
   "codemirror_mode": {
    "name": "ipython",
    "version": 3
   },
   "file_extension": ".py",
   "mimetype": "text/x-python",
   "name": "python",
   "nbconvert_exporter": "python",
   "pygments_lexer": "ipython3",
   "version": "3.8.3"
  }
 },
 "nbformat": 4,
 "nbformat_minor": 4
}
