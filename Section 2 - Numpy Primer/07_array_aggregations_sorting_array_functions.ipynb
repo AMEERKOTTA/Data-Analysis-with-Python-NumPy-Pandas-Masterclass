{
 "cells": [
  {
   "cell_type": "markdown",
   "metadata": {},
   "source": [
    "### ARRAY AGGREGATION\n",
    "\n",
    "+ Array Aggregation method lets you Calculate metrics like,\n",
    "\n",
    "        + sum()\n",
    "        + mean()\n",
    "        + max()\n",
    "        + min()\n",
    "        \n",
    "+ You can aggregate across rows and columns.\n",
    "\n",
    "        + axis = 0 means towards row.\n",
    "        + axis = 1 means towards columns."
   ]
  },
  {
   "cell_type": "code",
   "execution_count": 4,
   "metadata": {},
   "outputs": [
    {
     "name": "stdout",
     "output_type": "stream",
     "text": [
      "The Sum of the Values in the Array :-- 3763\n",
      "The Mean of the Values in the Array :-- 376.3\n",
      "The Maximum Value in the Array :-- 1827\n",
      "The Minimum Value in the Array :-- 0\n"
     ]
    }
   ],
   "source": [
    "import numpy as np\n",
    "\n",
    "sales_array = np.array([[0,5,155,0,518],[0,1827,616,317,325]])\n",
    "sales_array\n",
    "\n",
    "print(\"The Sum of the Values in the Array :--\", sales_array.sum())\n",
    "print(\"The Mean of the Values in the Array :--\", sales_array.mean())\n",
    "print(\"The Maximum Value in the Array :--\", sales_array.max())\n",
    "print(\"The Minimum Value in the Array :--\", sales_array.min())"
   ]
  },
  {
   "cell_type": "code",
   "execution_count": 6,
   "metadata": {},
   "outputs": [
    {
     "name": "stdout",
     "output_type": "stream",
     "text": [
      "The Sum across Rows :--- [   0 1832  771  317  843]\n",
      "The Sum across Columns :--- [ 678 3085]\n"
     ]
    }
   ],
   "source": [
    "## taking the sum across the row and columns.\n",
    "print(\"The Sum across Rows :---\",sales_array.sum(axis = 0))\n",
    "print(\"The Sum across Columns :---\", sales_array.sum(axis = 1))"
   ]
  },
  {
   "cell_type": "markdown",
   "metadata": {},
   "source": [
    "### ARRAY FUNCTIONS\n",
    "\n",
    "+ Array Functions let you Calculate Aggregations like median, percentiles, unique etc."
   ]
  },
  {
   "cell_type": "code",
   "execution_count": 12,
   "metadata": {},
   "outputs": [
    {
     "name": "stdout",
     "output_type": "stream",
     "text": [
      "The Median value of the Array :-- 236.0\n",
      "The 90th Percentiles of the Array is :-- 737.0999999999996\n",
      "The 75th Percentiles of the Array is :-- 469.75\n",
      "The unique Value present in the Array :-- [   0    5  155  317  325  518  616 1827]\n",
      "The Square Roots of the Values in the Array :--- [[ 0.          2.23606798 12.4498996   0.         22.75961335]\n",
      " [ 0.         42.74342055 24.81934729 17.80449381 18.02775638]]\n"
     ]
    }
   ],
   "source": [
    "sales_array\n",
    "\n",
    "## finding the median values.\n",
    "print(\"The Median value of the Array :--\", np.median(sales_array))\n",
    "## finding the 90 th percentiles of the array.\n",
    "print(\"The 90th Percentiles of the Array is :--\", np.percentile(sales_array, 90))\n",
    "print(\"The 75th Percentiles of the Array is :--\", np.percentile(sales_array, 75))\n",
    "\n",
    "## finding the unique value in the array\n",
    "print(\"The unique Value present in the Array :--\", np.unique(sales_array))\n",
    "\n",
    "## sqrt values of the elements in the Array \n",
    "print(\"The Square Roots of the Values in the Array :---\", np.sqrt(sales_array))"
   ]
  },
  {
   "cell_type": "markdown",
   "metadata": {},
   "source": [
    "### SORTING ARRAYS\n",
    "\n",
    "+ sort() method will sort arrays in place.\n",
    "+ Use the axis to specify the dimension to sort by.\n",
    "\n",
    "        + default axis = 1 --> Row Operation.\n",
    "        + axis = 0 --> Column Operation."
   ]
  },
  {
   "cell_type": "code",
   "execution_count": 19,
   "metadata": {},
   "outputs": [
    {
     "data": {
      "text/plain": [
       "array([[   0,    5,  155,    0,  518],\n",
       "       [   0, 1827,  616,  317,  325]])"
      ]
     },
     "execution_count": 19,
     "metadata": {},
     "output_type": "execute_result"
    }
   ],
   "source": [
    "sales_array = np.array([[0,5,155,0,518],[0,1827,616,317,325]])\n",
    "sales_array"
   ]
  },
  {
   "cell_type": "code",
   "execution_count": 20,
   "metadata": {},
   "outputs": [
    {
     "data": {
      "text/plain": [
       "array([[   0,    0,    5,  155,  518],\n",
       "       [   0,  317,  325,  616, 1827]])"
      ]
     },
     "execution_count": 20,
     "metadata": {},
     "output_type": "execute_result"
    }
   ],
   "source": [
    "sales_array.sort()\n",
    "sales_array"
   ]
  },
  {
   "cell_type": "code",
   "execution_count": 21,
   "metadata": {},
   "outputs": [
    {
     "data": {
      "text/plain": [
       "array([[   0,    0,    5,  155,  518],\n",
       "       [   0,  317,  325,  616, 1827]])"
      ]
     },
     "execution_count": 21,
     "metadata": {},
     "output_type": "execute_result"
    }
   ],
   "source": [
    "## sales array sorted by columns \n",
    "sales_array.sort(axis = 0)\n",
    "sales_array"
   ]
  },
  {
   "cell_type": "markdown",
   "metadata": {},
   "source": [
    "### ASSIGNMENT"
   ]
  },
  {
   "cell_type": "code",
   "execution_count": 35,
   "metadata": {},
   "outputs": [
    {
     "name": "stdout",
     "output_type": "stream",
     "text": [
      "[ 5.99  6.99 22.49 99.99  4.99 49.99]\n",
      "Sorted Prices :-- [ 4.99  5.99  6.99 22.49 49.99 99.99]\n",
      "Top three Prices :-- [22.49 49.99 99.99]\n",
      "The Mean of the top three prices :-- 57.49\n",
      "The Minimum Value of the top three Array :-- 22.49\n",
      "The Maximum Value of the top three Array :-- 99.99\n",
      "The Median Value of the top three Array :- 49.99\n"
     ]
    }
   ],
   "source": [
    "prices = np.array([\n",
    "    5.99, 6.99, 22.49, 99.99, 4.99, 49.99\n",
    "])\n",
    "print(prices)\n",
    "\n",
    "## sort the pprice array after that take the top three prices and do the min, max, mean, etc.\n",
    "prices.sort()\n",
    "print(\"Sorted Prices :--\", prices)\n",
    "top_three_prices = prices[3:]\n",
    "print(\"Top three Prices :--\", top_three_prices)\n",
    "\n",
    "## print the mean\n",
    "print(\"The Mean of the top three prices :--\", top_three_prices.mean())\n",
    "## print the min value in the top three array\n",
    "print(\"The Minimum Value of the top three Array :--\", top_three_prices.min())\n",
    "## print the maximum value of th etop three .\n",
    "print(\"The Maximum Value of the top three Array :--\", top_three_prices.max())\n",
    "## median\n",
    "print(\"The Median Value of the top three Array :-\", np.median(top_three_prices))"
   ]
  },
  {
   "cell_type": "code",
   "execution_count": 38,
   "metadata": {},
   "outputs": [
    {
     "name": "stdout",
     "output_type": "stream",
     "text": [
      "The Unique Price Tiers we have are :-- ['budget' 'luxury' 'mid-tier']\n"
     ]
    }
   ],
   "source": [
    "## unique price tiers\n",
    "price_tiers = np.array([\"budget\",\"budget\",\"mid-tier\",\"luxury\",\"mid-tier\",\"luxury\"])\n",
    "price_tiers\n",
    "\n",
    "## unique price tiers\n",
    "print(\"The Unique Price Tiers we have are :--\", np.unique(price_tiers))"
   ]
  },
  {
   "cell_type": "code",
   "execution_count": null,
   "metadata": {},
   "outputs": [],
   "source": []
  }
 ],
 "metadata": {
  "kernelspec": {
   "display_name": "Python 3",
   "language": "python",
   "name": "python3"
  },
  "language_info": {
   "codemirror_mode": {
    "name": "ipython",
    "version": 3
   },
   "file_extension": ".py",
   "mimetype": "text/x-python",
   "name": "python",
   "nbconvert_exporter": "python",
   "pygments_lexer": "ipython3",
   "version": "3.8.3"
  }
 },
 "nbformat": 4,
 "nbformat_minor": 4
}
