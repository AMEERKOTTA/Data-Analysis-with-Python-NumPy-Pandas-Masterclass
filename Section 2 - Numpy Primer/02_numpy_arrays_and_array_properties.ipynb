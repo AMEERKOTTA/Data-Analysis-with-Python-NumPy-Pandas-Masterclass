{
 "cells": [
  {
   "cell_type": "markdown",
   "metadata": {},
   "source": [
    "### NUMPY ARRAYS AND ARRAY PROPERTIES\n",
    "\n",
    "+ Numpy arrays are fixed type Containers.\n",
    "+ Which are more efficient than Python's List and Tuples.\n",
    "+ They only store Single Data Types.\n",
    "+ Mixed data types are Stored as Strings.\n",
    "+ They can be one dimensional or multi dimensional.\n",
    "+ Array elements can be modified but array size cannot be Changed.\n"
   ]
  },
  {
   "cell_type": "code",
   "execution_count": 4,
   "metadata": {},
   "outputs": [
    {
     "name": "stdout",
     "output_type": "stream",
     "text": [
      "[   0    5  155    0  518    0 1827  616  317  325]\n"
     ]
    }
   ],
   "source": [
    "import numpy as np\n",
    "\n",
    "sales = [0, 5, 155,0, 518, 0, 1827, 616, 317, 325]\n",
    "sales_array = np.array(sales)\n",
    "print(sales_array)"
   ]
  },
  {
   "cell_type": "markdown",
   "metadata": {},
   "source": [
    "**ARRAY PROPERTIES**\n",
    "\n",
    "Key Properties are :--\n",
    "\n",
    "+ `ndim` :- number of dimensions in an array (axes).\n",
    "+ `shape` :- size of the array in each dimensions.\n",
    "+ `size` :- total number of elements in the array.\n",
    "+ `dtype` :- data type of the element in the array."
   ]
  },
  {
   "cell_type": "code",
   "execution_count": 11,
   "metadata": {},
   "outputs": [],
   "source": [
    "## defining a function to print the array properties.\n",
    "\n",
    "def array_key_properties(array):\n",
    "    \n",
    "    print(f\" number of dimensions in an array (axes). :-- {array.ndim}\")\n",
    "    print(f\" size of the array in each dimensions. :-- {array.shape}\")\n",
    "    print(f\" total number of elements in the array. :-- {array.size}\")\n",
    "    print(f\" data type of the element in the array. :-- {array.dtype}\")\n",
    "    "
   ]
  },
  {
   "cell_type": "code",
   "execution_count": 12,
   "metadata": {},
   "outputs": [
    {
     "name": "stdout",
     "output_type": "stream",
     "text": [
      " number of dimensions in an array (axes). :-- 1\n",
      " size of the array in each dimensions. :-- (10,)\n",
      " total number of elements in the array. :-- 10\n",
      " data type of the element in the array. :-- int32\n"
     ]
    }
   ],
   "source": [
    "array_key_properties(sales_array)"
   ]
  },
  {
   "cell_type": "code",
   "execution_count": 18,
   "metadata": {},
   "outputs": [
    {
     "name": "stdout",
     "output_type": "stream",
     "text": [
      " number of dimensions in an array (axes). :-- 2\n",
      " size of the array in each dimensions. :-- (2, 5)\n",
      " total number of elements in the array. :-- 10\n",
      " data type of the element in the array. :-- int32\n",
      "=================================\n",
      " number of dimensions in an array (axes). :-- 2\n",
      " size of the array in each dimensions. :-- (5, 2)\n",
      " total number of elements in the array. :-- 10\n",
      " data type of the element in the array. :-- int32\n"
     ]
    }
   ],
   "source": [
    "sales_2 = [[0,55,0,90,20],[123,345,567,890,0]]\n",
    "sales_2_array = np.array(sales_2)\n",
    "array_key_properties(sales_2_array)\n",
    "\n",
    "print(\"=================================\")\n",
    "\n",
    "## taking the transpose of the array\n",
    "sales_2_transpose = sales_2_array.T\n",
    "array_key_properties(sales_2_transpose)"
   ]
  },
  {
   "cell_type": "code",
   "execution_count": 19,
   "metadata": {},
   "outputs": [
    {
     "name": "stdout",
     "output_type": "stream",
     "text": [
      " number of dimensions in an array (axes). :-- 1\n",
      " size of the array in each dimensions. :-- (3,)\n",
      " total number of elements in the array. :-- 3\n",
      " data type of the element in the array. :-- <U6\n"
     ]
    }
   ],
   "source": [
    "## checking the array given below\n",
    "love_array = np.array([\"I\", \"Love\", \"Python\"])\n",
    "array_key_properties(love_array)"
   ]
  },
  {
   "cell_type": "markdown",
   "metadata": {},
   "source": [
    "#### ASSIGNMENT "
   ]
  },
  {
   "cell_type": "code",
   "execution_count": 21,
   "metadata": {},
   "outputs": [
    {
     "name": "stdout",
     "output_type": "stream",
     "text": [
      "[10, 20, 30, 40, 50, 60, 70, 80, 90, 100]\n",
      " number of dimensions in an array (axes). :-- 1\n",
      " size of the array in each dimensions. :-- (10,)\n",
      " total number of elements in the array. :-- 10\n",
      " data type of the element in the array. :-- int32\n"
     ]
    }
   ],
   "source": [
    "my_list = [x * 10 for x in range(1,11)]\n",
    "print(my_list)\n",
    "\n",
    "my_list_array = np.array(my_list)\n",
    "\n",
    "## printing the key propertues\n",
    "array_key_properties(my_list_array)"
   ]
  },
  {
   "cell_type": "code",
   "execution_count": null,
   "metadata": {},
   "outputs": [],
   "source": []
  }
 ],
 "metadata": {
  "kernelspec": {
   "display_name": "Python 3",
   "language": "python",
   "name": "python3"
  },
  "language_info": {
   "codemirror_mode": {
    "name": "ipython",
    "version": 3
   },
   "file_extension": ".py",
   "mimetype": "text/x-python",
   "name": "python",
   "nbconvert_exporter": "python",
   "pygments_lexer": "ipython3",
   "version": "3.8.3"
  }
 },
 "nbformat": 4,
 "nbformat_minor": 4
}
