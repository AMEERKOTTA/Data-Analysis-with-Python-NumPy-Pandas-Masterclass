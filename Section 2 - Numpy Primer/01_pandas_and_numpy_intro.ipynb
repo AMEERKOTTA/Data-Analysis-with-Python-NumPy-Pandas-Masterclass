{
 "cells": [
  {
   "cell_type": "markdown",
   "metadata": {},
   "source": [
    "### PANDAS AND NUMPY INTRODUCTION"
   ]
  },
  {
   "cell_type": "markdown",
   "metadata": {},
   "source": [
    "**GOALS OF THE SECTION**\n",
    "\n",
    "+ Convert Python Lists to Numpy Arrays.\n",
    "+ Create new arrays from Scratch Using functions.\n",
    "+ Apply array indexing, slicing methods.\n",
    "+ And function to perform operations on Numpy arrays.\n",
    "+ Understand the Concept of Vectorization & BroadCasting.\n",
    "+ Which are Critical in making Numpy and Pandas more efficient.\n",
    "\n",
    "\n",
    "**PANDAS**\n",
    "\n",
    "+ Python's Library for Data Analysis.\n",
    "+ Contains functions for Accessing, Aggregating, Joining and Analysing "
   ]
  }
 ],
 "metadata": {
  "kernelspec": {
   "display_name": "Python 3",
   "language": "python",
   "name": "python3"
  },
  "language_info": {
   "codemirror_mode": {
    "name": "ipython",
    "version": 3
   },
   "file_extension": ".py",
   "mimetype": "text/x-python",
   "name": "python",
   "nbconvert_exporter": "python",
   "pygments_lexer": "ipython3",
   "version": "3.8.3"
  }
 },
 "nbformat": 4,
 "nbformat_minor": 4
}
