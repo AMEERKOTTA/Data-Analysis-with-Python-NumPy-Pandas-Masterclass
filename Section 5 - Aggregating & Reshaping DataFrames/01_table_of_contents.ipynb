{
 "cells": [
  {
   "cell_type": "markdown",
   "metadata": {},
   "source": [
    "### AGGREGATING AND RESHAPING DATAFRAMES\n",
    "\n",
    "Table of Contents :---\n",
    "\n",
    "1. Grouping Columns\n",
    "2. Multi - Index Dataframes.\n",
    "3. Aggregating Groups.\n",
    "4. Pivot Tables.\n",
    "5. Melting Dataframes."
   ]
  },
  {
   "cell_type": "code",
   "execution_count": null,
   "metadata": {},
   "outputs": [],
   "source": []
  }
 ],
 "metadata": {
  "kernelspec": {
   "display_name": "Python 3",
   "language": "python",
   "name": "python3"
  },
  "language_info": {
   "codemirror_mode": {
    "name": "ipython",
    "version": 3
   },
   "file_extension": ".py",
   "mimetype": "text/x-python",
   "name": "python",
   "nbconvert_exporter": "python",
   "pygments_lexer": "ipython3",
   "version": "3.8.3"
  }
 },
 "nbformat": 4,
 "nbformat_minor": 4
}
