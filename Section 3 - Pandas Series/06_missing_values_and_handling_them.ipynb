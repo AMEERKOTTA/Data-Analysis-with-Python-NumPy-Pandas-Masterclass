{
 "cells": [
  {
   "cell_type": "markdown",
   "metadata": {},
   "source": [
    "### MISSING DATA AND FIXING THEM\n",
    "\n",
    "+ Missing Data is represented by NumPy NaN Values.\n",
    "+ Pandas treat NaN values as floats.\n",
    "+ Which allow them to be used to in Vectorized Operations.\n",
    "\n",
    "+ Pandas released its own Missing Data type, NA\n",
    "+ This allows missing values to be stored as Integers, instead of needing to convert to float."
   ]
  },
  {
   "cell_type": "code",
   "execution_count": 1,
   "metadata": {},
   "outputs": [],
   "source": [
    "import pandas as pd\n",
    "import numpy as np"
   ]
  },
  {
   "cell_type": "code",
   "execution_count": 4,
   "metadata": {},
   "outputs": [
    {
     "data": {
      "text/plain": [
       "0      0.0\n",
       "1      5.0\n",
       "2    155.0\n",
       "3      NaN\n",
       "4    518.0\n",
       "Name: Sales Data, dtype: float64"
      ]
     },
     "execution_count": 4,
     "metadata": {},
     "output_type": "execute_result"
    }
   ],
   "source": [
    "## with NaN values\n",
    "sales = [0,5,155,np.nan, 518]\n",
    "sales_series = pd.Series(sales, name = \"Sales Data\")\n",
    "sales_series"
   ]
  },
  {
   "cell_type": "code",
   "execution_count": 7,
   "metadata": {},
   "outputs": [
    {
     "data": {
      "text/plain": [
       "0       0\n",
       "1       5\n",
       "2     155\n",
       "3    <NA>\n",
       "4     518\n",
       "Name: Sales Data, dtype: Int16"
      ]
     },
     "execution_count": 7,
     "metadata": {},
     "output_type": "execute_result"
    }
   ],
   "source": [
    "##  with Pandas NA values\n",
    "sales = [0,5,155,pd.NA, 518]\n",
    "sales_series = pd.Series(sales, name = \"Sales Data\", dtype = \"Int16\")\n",
    "sales_series"
   ]
  },
  {
   "cell_type": "markdown",
   "metadata": {},
   "source": [
    "### IDENTIFYING THE MISSING VALUES\n",
    "\n",
    "+ There are two methods to identify the missing values in a pandas series.\n",
    "        + .isna() method.\n",
    "        + .value_counts() methods."
   ]
  },
  {
   "cell_type": "code",
   "execution_count": 13,
   "metadata": {},
   "outputs": [
    {
     "name": "stdout",
     "output_type": "stream",
     "text": [
      "0    False\n",
      "1    False\n",
      "2    False\n",
      "3     True\n",
      "4    False\n",
      "Name: Sales Data, dtype: bool\n",
      "Total Number of Missing Values :-- 1\n"
     ]
    }
   ],
   "source": [
    "## checking for the missing values\n",
    "print(sales_series.isna())\n",
    "## prniting the sum of missing values\n",
    "print(\"Total Number of Missing Values :--\",sales_series.isna().sum())"
   ]
  },
  {
   "cell_type": "code",
   "execution_count": 19,
   "metadata": {},
   "outputs": [
    {
     "name": "stdout",
     "output_type": "stream",
     "text": [
      "0      1\n",
      "155    1\n",
      "5      1\n",
      "518    1\n",
      "Name: Sales Data, dtype: Int64\n",
      "********************************************************************************\n",
      "NaN    1\n",
      "0      1\n",
      "155    1\n",
      "5      1\n",
      "518    1\n",
      "Name: Sales Data, dtype: Int64\n"
     ]
    }
   ],
   "source": [
    "## checking the missing values using value_counts()\n",
    "print(sales_series.value_counts())\n",
    "print(\"*\"*80)\n",
    "## giving the dropna\n",
    "print(sales_series.value_counts(dropna=False))"
   ]
  },
  {
   "cell_type": "markdown",
   "metadata": {},
   "source": [
    "### HANDLING THE MISSING DATA\n",
    "\n",
    "There are two methods to deal with the missing value.\n",
    "+ Drop the missing value : `.dropna()` method.\n",
    "+ Fill the missing values with some value like 0 or mean value etc. `.fillna(value)`"
   ]
  },
  {
   "cell_type": "code",
   "execution_count": 25,
   "metadata": {},
   "outputs": [
    {
     "name": "stdout",
     "output_type": "stream",
     "text": [
      "0      0.0\n",
      "1      5.0\n",
      "2    155.0\n",
      "3      NaN\n",
      "4    518.0\n",
      "Name: Sales Data, dtype: float64\n",
      "DROP THE MISSING VALUE BY DROPNA METHOD\n",
      "0      0.0\n",
      "1      5.0\n",
      "2    155.0\n",
      "4    518.0\n",
      "Name: Sales Data, dtype: float64\n",
      "IMPUTE THE MISSING VALUE WITH THE MEAN VALUE\n",
      "0      0.0\n",
      "1      5.0\n",
      "2    155.0\n",
      "3    169.5\n",
      "4    518.0\n",
      "Name: Sales Data, dtype: float64\n"
     ]
    }
   ],
   "source": [
    "## with NaN values\n",
    "sales = [0,5,155,np.nan, 518]\n",
    "sales_series = pd.Series(sales, name = \"Sales Data\")\n",
    "print(sales_series)\n",
    "print(\"DROP THE MISSING VALUE BY DROPNA METHOD\")\n",
    "print(sales_series.dropna())\n",
    "print(\"IMPUTE THE MISSING VALUE WITH THE MEAN VALUE\")\n",
    "print(sales_series.fillna(sales_series.mean()))"
   ]
  },
  {
   "cell_type": "code",
   "execution_count": null,
   "metadata": {},
   "outputs": [],
   "source": []
  }
 ],
 "metadata": {
  "kernelspec": {
   "display_name": "Python 3",
   "language": "python",
   "name": "python3"
  },
  "language_info": {
   "codemirror_mode": {
    "name": "ipython",
    "version": 3
   },
   "file_extension": ".py",
   "mimetype": "text/x-python",
   "name": "python",
   "nbconvert_exporter": "python",
   "pygments_lexer": "ipython3",
   "version": "3.8.3"
  }
 },
 "nbformat": 4,
 "nbformat_minor": 4
}
