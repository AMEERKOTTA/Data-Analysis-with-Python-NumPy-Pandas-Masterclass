{
 "cells": [
  {
   "cell_type": "markdown",
   "metadata": {},
   "source": [
    "### NUMERIC SERIES OPERATIONS"
   ]
  },
  {
   "cell_type": "markdown",
   "metadata": {},
   "source": [
    "|    Operator      || Pyhon Operator || Pandas Operator |\n",
    "| ----------       || -------------- || --------------- |\n",
    "|  Addition        || +              ||  .add()         |\n",
    "|  Subtraction     ||   -            ||  .sub(), .subtract()         |\n",
    "|  Multiplication  ||  *             ||   .mul(), .multiply()         |\n",
    "| Division         ||   /            ||   .div(), .truediv(), .divide()         |\n",
    "|  Floor Division  ||   //           ||   .floordiv()         |\n",
    "|  Modulo          ||   %            ||   .mod()         |\n",
    "|  Exponential     ||   **           ||   .pow()       |"
   ]
  },
  {
   "cell_type": "code",
   "execution_count": 1,
   "metadata": {},
   "outputs": [],
   "source": [
    "import pandas as pd\n",
    "import numpy as np"
   ]
  },
  {
   "cell_type": "code",
   "execution_count": 9,
   "metadata": {},
   "outputs": [
    {
     "name": "stdout",
     "output_type": "stream",
     "text": [
      "0      0\n",
      "1      5\n",
      "2    155\n",
      "3      0\n",
      "4    518\n",
      "Name: Monday Sales, dtype: int64\n",
      "********************************************************************************\n",
      "0      2\n",
      "1      7\n",
      "2    157\n",
      "3      2\n",
      "4    520\n",
      "Name: Monday Sales, dtype: int64\n",
      "********************************************************************************\n",
      "0      2\n",
      "1      7\n",
      "2    157\n",
      "3      2\n",
      "4    520\n",
      "Name: Monday Sales, dtype: int64\n",
      "********************************************************************************\n"
     ]
    }
   ],
   "source": [
    "sales = [0,5,155,0,518]\n",
    "monday_sales = pd.Series(sales, name = \"Monday Sales\")\n",
    "print(monday_sales)\n",
    "\n",
    "print(\"*\"*80)\n",
    "print(monday_sales + 2)\n",
    "print(\"*\"*80)\n",
    "print(monday_sales.add(2))\n",
    "\n",
    "print(\"*\"*80)\n",
    "#\"$\" + monday_sales.astype(\"float\").astype(\"string\")"
   ]
  },
  {
   "cell_type": "markdown",
   "metadata": {},
   "source": [
    "### STRING METHODS"
   ]
  },
  {
   "cell_type": "markdown",
   "metadata": {},
   "source": [
    "|   String Method   ||    Description     |\n",
    "|   -----------     ||   -------------    |\n",
    "| .strip(), .lstrip(), .rstrip()  || Removes all leading / trailing Characters . |\n",
    "| .upper(), .lower()              || Converts all Characters to Upper or Lower Characters. |\n",
    "| .slice(start, stop, step)       || Applies a Slice to the Strings in the Series  | \n",
    "| .count(\"string\")                || Counts all instances of a given string.  |\n",
    "| .contains(\"string\")             || Returns True if given string is found, or return False |\n",
    "| .replace(\"a\", \"b\")              || Replaces instances of string \"a\" with string \"b\" |\n",
    "| .split(\"delimeter\", expand = True) || Splits string based on a given delimeter string, and returns a DataFrame with a Series for each Splits. |\n",
    "| .len()                             || Returns the length of each string in the Series. |\n",
    "| .startswith(\"string\"), .endswith(\"string\") || Returns True if the string starts or ends with given string, or False.  |\n",
    " "
   ]
  },
  {
   "cell_type": "code",
   "execution_count": 16,
   "metadata": {},
   "outputs": [
    {
     "data": {
      "text/plain": [
       "5"
      ]
     },
     "execution_count": 16,
     "metadata": {},
     "output_type": "execute_result"
    }
   ],
   "source": [
    "monday_sales.count()"
   ]
  },
  {
   "cell_type": "code",
   "execution_count": 18,
   "metadata": {},
   "outputs": [
    {
     "data": {
      "text/plain": [
       "0    1000\n",
       "1       5\n",
       "2     155\n",
       "3    1000\n",
       "4     518\n",
       "Name: Monday Sales, dtype: object"
      ]
     },
     "execution_count": 18,
     "metadata": {},
     "output_type": "execute_result"
    }
   ],
   "source": [
    "monday_sales.replace(0, \"1000\")"
   ]
  },
  {
   "cell_type": "code",
   "execution_count": 33,
   "metadata": {},
   "outputs": [
    {
     "name": "stdout",
     "output_type": "stream",
     "text": [
      "0     coffee\n",
      "1    bananas\n",
      "2        tea\n",
      "3    cocunut\n",
      "4      sugar\n",
      "Name: Items, dtype: object\n",
      "********************************************************************************\n",
      "0    False\n",
      "1     True\n",
      "2    False\n",
      "3    False\n",
      "4    False\n",
      "Name: Items, dtype: bool\n",
      "********************************************************************************\n",
      "0     COFFEE\n",
      "1    BANANAS\n",
      "2        TEA\n",
      "3    COCUNUT\n",
      "4      SUGAR\n",
      "Name: Items, dtype: object\n",
      "********************************************************************************\n",
      "0     coffee\n",
      "1    bananas\n",
      "2        tea\n",
      "3    cocunut\n",
      "4      sugar\n",
      "Name: Items, dtype: object\n",
      "********************************************************************************\n",
      "0    ffe\n",
      "1    nan\n",
      "2      a\n",
      "3    cun\n",
      "4    gar\n",
      "Name: Items, dtype: object\n",
      "********************************************************************************\n",
      "0    0\n",
      "1    1\n",
      "2    0\n",
      "3    0\n",
      "4    0\n",
      "Name: Items, dtype: int64\n",
      "********************************************************************************\n",
      "0     coffee\n",
      "1      mouse\n",
      "2        tea\n",
      "3    cocunut\n",
      "4      sugar\n",
      "Name: Items, dtype: object\n",
      "********************************************************************************\n",
      "0    False\n",
      "1     True\n",
      "2    False\n",
      "3    False\n",
      "4    False\n",
      "Name: Items, dtype: bool\n",
      "********************************************************************************\n",
      "0    False\n",
      "1    False\n",
      "2    False\n",
      "3    False\n",
      "4     True\n",
      "Name: Items, dtype: bool\n"
     ]
    }
   ],
   "source": [
    "items = [\"coffee\",\"bananas\",\"tea\",\"cocunut\",\"sugar\"]\n",
    "items_series = pd.Series(items, name = \"Items\")\n",
    "print(items_series)\n",
    "print(\"*\"*80)\n",
    "print(items_series.str.contains(\"bananas\"))\n",
    "print(\"*\"*80)\n",
    "print(items_series.str.upper())\n",
    "print(\"*\"*80)\n",
    "print(items_series.str.lower())\n",
    "print(\"*\"*80)\n",
    "print(items_series.str.slice(2,5,1))\n",
    "print(\"*\"*80)\n",
    "print(items_series.str.count(\"bananas\"))\n",
    "print(\"*\"*80)\n",
    "print(items_series.str.replace(\"bananas\",\"mouse\"))\n",
    "print(\"*\"*80)\n",
    "print(items_series.str.startswith(\"bana\"))\n",
    "print(\"*\"*80)\n",
    "print(items_series.str.endswith(\"gar\"))"
   ]
  },
  {
   "cell_type": "code",
   "execution_count": null,
   "metadata": {},
   "outputs": [],
   "source": []
  }
 ],
 "metadata": {
  "kernelspec": {
   "display_name": "Python 3",
   "language": "python",
   "name": "python3"
  },
  "language_info": {
   "codemirror_mode": {
    "name": "ipython",
    "version": 3
   },
   "file_extension": ".py",
   "mimetype": "text/x-python",
   "name": "python",
   "nbconvert_exporter": "python",
   "pygments_lexer": "ipython3",
   "version": "3.8.3"
  }
 },
 "nbformat": 4,
 "nbformat_minor": 4
}
