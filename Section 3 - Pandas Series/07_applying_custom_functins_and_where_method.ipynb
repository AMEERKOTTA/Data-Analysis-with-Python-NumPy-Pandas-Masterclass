{
 "cells": [
  {
   "cell_type": "markdown",
   "metadata": {},
   "source": [
    "### APPLYING CUSTOM FUNCTIONS\n",
    "\n",
    "We can apply custom functions to get results from a pandas series.\n",
    "+ We can use the `.apply(function)` method"
   ]
  },
  {
   "cell_type": "code",
   "execution_count": 2,
   "metadata": {},
   "outputs": [],
   "source": [
    "import pandas as pd\n",
    "import numpy as np"
   ]
  },
  {
   "cell_type": "code",
   "execution_count": 3,
   "metadata": {},
   "outputs": [
    {
     "name": "stdout",
     "output_type": "stream",
     "text": [
      "0     3.99\n",
      "1     5.99\n",
      "2    22.99\n",
      "3     7.99\n",
      "4    33.99\n",
      "Name: Price Data, dtype: float64\n"
     ]
    }
   ],
   "source": [
    "data = [3.99, 5.99, 22.99, 7.99, 33.99]\n",
    "price_data = pd.Series(data, name = \"Price Data\")\n",
    "print(price_data)"
   ]
  },
  {
   "cell_type": "code",
   "execution_count": 18,
   "metadata": {},
   "outputs": [
    {
     "name": "stdout",
     "output_type": "stream",
     "text": [
      "0     3.99\n",
      "1     5.99\n",
      "2    20.69\n",
      "3     7.99\n",
      "4    30.59\n",
      "Name: Price Data, dtype: float64\n",
      "APPLYING LAMBDA FUNCTION\n",
      "0     3.99\n",
      "1     5.99\n",
      "2    15.69\n",
      "3     7.99\n",
      "4    25.59\n",
      "Name: Price Data, dtype: float64\n",
      "0     3.99\n",
      "1     5.99\n",
      "2    45.98\n",
      "3     7.99\n",
      "4    67.98\n",
      "Name: Price Data, dtype: float64\n",
      "0      15.9201\n",
      "1      35.8801\n",
      "2     528.5401\n",
      "3      63.8401\n",
      "4    1155.3201\n",
      "Name: Price Data, dtype: float64\n"
     ]
    }
   ],
   "source": [
    "def discount(price):\n",
    "    if price > 20:\n",
    "        return round(price * 0.9, 2)\n",
    "    return price\n",
    "\n",
    "print(price_data.apply(discount))\n",
    "print(\"APPLYING LAMBDA FUNCTION\")\n",
    "print(price_data.apply(lambda x : round(x * 0.9-5,2) if x > 20 else x))\n",
    "print(price_data.apply(lambda x : x * 2 if x > 20 else x))\n",
    "print(price_data.apply(lambda x : x**2))"
   ]
  },
  {
   "cell_type": "code",
   "execution_count": 24,
   "metadata": {},
   "outputs": [],
   "source": [
    "def search(string, lookin_for):\n",
    "    if lookin_for in string:\n",
    "        return \"Found it\"\n",
    "    return \"Nope\""
   ]
  },
  {
   "cell_type": "markdown",
   "metadata": {},
   "source": [
    "### THE WHERE METHOD\n",
    "\n",
    "+ Pandas .where() method returns series values based on a logical condition.\n",
    "\n",
    "Syntax : `df.where(logical test, value if False, inplace = True)`"
   ]
  },
  {
   "cell_type": "code",
   "execution_count": 35,
   "metadata": {},
   "outputs": [
    {
     "name": "stdout",
     "output_type": "stream",
     "text": [
      "0     3.99\n",
      "1     5.99\n",
      "2    22.99\n",
      "3     7.99\n",
      "4    33.99\n",
      "Name: Price Data, dtype: float64\n",
      "0    3.99\n",
      "1    5.99\n",
      "2     NaN\n",
      "3    7.99\n",
      "4     NaN\n",
      "Name: Price Data, dtype: float64\n",
      "0    3.99\n",
      "1    5.99\n",
      "2     NaN\n",
      "3    7.99\n",
      "4     NaN\n",
      "Name: Price Data, dtype: float64\n",
      "0    3.99\n",
      "1    5.99\n",
      "2     NaN\n",
      "3    7.99\n",
      "4     NaN\n",
      "Name: Price Data, dtype: float64\n"
     ]
    }
   ],
   "source": [
    "data = [3.99, 5.99, 22.99, 7.99, 33.99]\n",
    "price_data = pd.Series(data, name = \"Price Data\")\n",
    "print(price_data)\n",
    "\n",
    "print(price_data.where(price_data <= 20))\n",
    "print(price_data.where((price_data <= 20) & (price_data * 10)))\n",
    "print(price_data.where(price_data <= 20))\n",
    "print(np.where(pri))"
   ]
  },
  {
   "cell_type": "code",
   "execution_count": null,
   "metadata": {},
   "outputs": [],
   "source": []
  }
 ],
 "metadata": {
  "kernelspec": {
   "display_name": "Python 3",
   "language": "python",
   "name": "python3"
  },
  "language_info": {
   "codemirror_mode": {
    "name": "ipython",
    "version": 3
   },
   "file_extension": ".py",
   "mimetype": "text/x-python",
   "name": "python",
   "nbconvert_exporter": "python",
   "pygments_lexer": "ipython3",
   "version": "3.8.3"
  }
 },
 "nbformat": 4,
 "nbformat_minor": 4
}
