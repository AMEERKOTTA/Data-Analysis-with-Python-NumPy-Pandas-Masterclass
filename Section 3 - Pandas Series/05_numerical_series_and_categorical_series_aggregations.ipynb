{
 "cells": [
  {
   "cell_type": "markdown",
   "metadata": {},
   "source": [
    "### NUMERICAL SERIES AGGREGATIONS"
   ]
  },
  {
   "cell_type": "markdown",
   "metadata": {},
   "source": [
    "|   String Method   ||    Description     |\n",
    "|   -----------     ||   -------------    |\n",
    "| .count()  ||Returns the number of items |\n",
    "| .first(), .last()             || Returns the First and Last items |\n",
    "| .mean(), .median()      || Calculate the Mean and Median | \n",
    "| .min(), .max()              || Calculate the Minimum and Maximum values  |\n",
    "| .argmax(), .argmin()             || Returns index of Largest or Smallest Values |\n",
    "| .std(), .var()              || Calculates the Standard Deviation and variance |\n",
    "| .mad() || Calculates the Mean Absolute Deviation |\n",
    "| .prod()                            || Calculates the Product of all items. |\n",
    "| .sum() || Sum of all Items  |\n",
    "| .quantile  || Specified Percentiles  |\n",
    " "
   ]
  },
  {
   "cell_type": "code",
   "execution_count": 2,
   "metadata": {},
   "outputs": [],
   "source": [
    "import numpy as np\n",
    "import pandas as pd"
   ]
  },
  {
   "cell_type": "code",
   "execution_count": 29,
   "metadata": {},
   "outputs": [
    {
     "name": "stdout",
     "output_type": "stream",
     "text": [
      "&&&&&&&&&&&&&&&&&&&&&&&&&&&&&&&&&&&&&&&&&&&&&&&&&&&&&&&&&&&&&&&&&&&&&&&&&&&&&&&&\n",
      "The Count :- 29\n",
      "&&&&&&&&&&&&&&&&&&&&&&&&&&&&&&&&&&&&&&&&&&&&&&&&&&&&&&&&&&&&&&&&&&&&&&&&&&&&&&&&\n",
      "&&&&&&&&&&&&&&&&&&&&&&&&&&&&&&&&&&&&&&&&&&&&&&&&&&&&&&&&&&&&&&&&&&&&&&&&&&&&&&&&\n",
      "Mean Value :-- 191.20689655172413\n",
      "&&&&&&&&&&&&&&&&&&&&&&&&&&&&&&&&&&&&&&&&&&&&&&&&&&&&&&&&&&&&&&&&&&&&&&&&&&&&&&&&\n",
      "Median Value :-- 44.0\n",
      "&&&&&&&&&&&&&&&&&&&&&&&&&&&&&&&&&&&&&&&&&&&&&&&&&&&&&&&&&&&&&&&&&&&&&&&&&&&&&&&&\n",
      "Min Value :-- 0\n",
      "&&&&&&&&&&&&&&&&&&&&&&&&&&&&&&&&&&&&&&&&&&&&&&&&&&&&&&&&&&&&&&&&&&&&&&&&&&&&&&&&\n",
      "MAx Value :-- 999\n",
      "&&&&&&&&&&&&&&&&&&&&&&&&&&&&&&&&&&&&&&&&&&&&&&&&&&&&&&&&&&&&&&&&&&&&&&&&&&&&&&&&\n",
      "index of 999 :-- 28\n",
      "&&&&&&&&&&&&&&&&&&&&&&&&&&&&&&&&&&&&&&&&&&&&&&&&&&&&&&&&&&&&&&&&&&&&&&&&&&&&&&&&\n",
      "index of 0 :-- 0\n",
      "&&&&&&&&&&&&&&&&&&&&&&&&&&&&&&&&&&&&&&&&&&&&&&&&&&&&&&&&&&&&&&&&&&&&&&&&&&&&&&&&\n",
      "STD Vakue :-- 297.97607517938474\n",
      "&&&&&&&&&&&&&&&&&&&&&&&&&&&&&&&&&&&&&&&&&&&&&&&&&&&&&&&&&&&&&&&&&&&&&&&&&&&&&&&&\n",
      "Varince Vakue :-- 88789.74137931033\n",
      "&&&&&&&&&&&&&&&&&&&&&&&&&&&&&&&&&&&&&&&&&&&&&&&&&&&&&&&&&&&&&&&&&&&&&&&&&&&&&&&&\n",
      "Mean Absolute Deviation Vakue :-- 231.33412604042803\n",
      "&&&&&&&&&&&&&&&&&&&&&&&&&&&&&&&&&&&&&&&&&&&&&&&&&&&&&&&&&&&&&&&&&&&&&&&&&&&&&&&&\n",
      "Product of all Values :-- 0\n",
      "&&&&&&&&&&&&&&&&&&&&&&&&&&&&&&&&&&&&&&&&&&&&&&&&&&&&&&&&&&&&&&&&&&&&&&&&&&&&&&&&\n",
      "Sum of all items :-- 5545\n",
      "&&&&&&&&&&&&&&&&&&&&&&&&&&&&&&&&&&&&&&&&&&&&&&&&&&&&&&&&&&&&&&&&&&&&&&&&&&&&&&&&\n",
      "Percentiles :-- 0.25      7.0\n",
      "0.50     44.0\n",
      "0.75    222.0\n",
      "Name: Number Series, dtype: float64\n"
     ]
    }
   ],
   "source": [
    "number_list = [0,1,2,3,4,5,6,7,8,9,10,11,22,33,44,55,66,77,88,99,111,222,333,444,555,666,777,888,999]\n",
    "num_series = pd.Series(number_list, name = \"Number Series\")\n",
    "#print(num_series)\n",
    "\n",
    "## count\n",
    "print(\"&\"*80)\n",
    "print(\"The Count :-\", num_series.count())\n",
    "print(\"&\"*80)\n",
    "#print(\"The First NUmber :-\", num_series.first(\"0\"))\n",
    "#print(\"The First NUmber :-\", num_series.first(\"0\"))\n",
    "print(\"&\"*80)\n",
    "print(\"Mean Value :--\", num_series.mean())\n",
    "print(\"&\"*80)\n",
    "print(\"Median Value :--\", num_series.median())\n",
    "print(\"&\"*80)\n",
    "print(\"Min Value :--\", num_series.min())\n",
    "print(\"&\"*80)\n",
    "print(\"MAx Value :--\", num_series.max())\n",
    "print(\"&\"*80)\n",
    "print(\"index of 999 :--\", num_series.argmax())\n",
    "print(\"&\"*80)\n",
    "print(\"index of 0 :--\", num_series.argmin())\n",
    "print(\"&\"*80)\n",
    "print(\"STD Vakue :--\", num_series.std())\n",
    "print(\"&\"*80)\n",
    "print(\"Varince Vakue :--\", num_series.var())\n",
    "print(\"&\"*80)\n",
    "print(\"Mean Absolute Deviation Vakue :--\", num_series.mad())\n",
    "print(\"&\"*80)\n",
    "print(\"Product of all Values :--\", num_series.prod())\n",
    "print(\"&\"*80)\n",
    "print(\"Sum of all items :--\", num_series.sum())\n",
    "print(\"&\"*80)\n",
    "print(\"Percentiles :--\", num_series.quantile([0.25, 0.5, 0.75]))"
   ]
  },
  {
   "cell_type": "markdown",
   "metadata": {},
   "source": [
    "### CATEGORICAL SERIES AGGREGATIONS"
   ]
  },
  {
   "cell_type": "markdown",
   "metadata": {},
   "source": [
    "| Method  ||   Description  |\n",
    "| -----   || ------         |\n",
    "| .unique()  ||  Returns an array of Unique items |\n",
    "| .nunique() ||  Returns the number of Unique Items |\n",
    "| .value_counts()  ||  Returns Series of Unique items and their Frequencies  |"
   ]
  },
  {
   "cell_type": "code",
   "execution_count": 34,
   "metadata": {},
   "outputs": [
    {
     "name": "stdout",
     "output_type": "stream",
     "text": [
      "0     coffee\n",
      "1     coffee\n",
      "2        tea\n",
      "3    cocunut\n",
      "4      sugar\n",
      "Name: Item Series, dtype: object\n",
      "********************************************************************************\n",
      "['coffee' 'tea' 'cocunut' 'sugar']\n",
      "********************************************************************************\n",
      "4\n",
      "********************************************************************************\n",
      "coffee     2\n",
      "sugar      1\n",
      "cocunut    1\n",
      "tea        1\n",
      "Name: Item Series, dtype: int64\n"
     ]
    }
   ],
   "source": [
    "items = [\"coffee\",\"coffee\",\"tea\",\"cocunut\",\"sugar\"]\n",
    "item_series = pd.Series(items, name = \"Item Series\")\n",
    "print(item_series)\n",
    "\n",
    "print(\"*\"*80)\n",
    "print(item_series.unique())\n",
    "print(\"*\"*80)\n",
    "print(item_series.nunique())\n",
    "print(\"*\"*80)\n",
    "print(item_series.value_counts())"
   ]
  },
  {
   "cell_type": "code",
   "execution_count": null,
   "metadata": {},
   "outputs": [],
   "source": []
  }
 ],
 "metadata": {
  "kernelspec": {
   "display_name": "Python 3",
   "language": "python",
   "name": "python3"
  },
  "language_info": {
   "codemirror_mode": {
    "name": "ipython",
    "version": 3
   },
   "file_extension": ".py",
   "mimetype": "text/x-python",
   "name": "python",
   "nbconvert_exporter": "python",
   "pygments_lexer": "ipython3",
   "version": "3.8.3"
  }
 },
 "nbformat": 4,
 "nbformat_minor": 4
}
