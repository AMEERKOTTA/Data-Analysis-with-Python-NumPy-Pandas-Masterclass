{
 "cells": [
  {
   "cell_type": "markdown",
   "metadata": {},
   "source": [
    "### FILTERING SERIES AND LOGICAL TESTS\n",
    "\n",
    "+ You can filter a Series by passing a logical test into `iloc[]` accessor.\n"
   ]
  },
  {
   "cell_type": "code",
   "execution_count": 13,
   "metadata": {},
   "outputs": [
    {
     "name": "stdout",
     "output_type": "stream",
     "text": [
      "coffee       0\n",
      "bananas      5\n",
      "tea        155\n",
      "cocunut      0\n",
      "sugar      518\n",
      "Name: Sales Data, dtype: int64\n",
      "********************************************************************************\n",
      "Entries that are greater than five ;---bananas      5\n",
      "tea        155\n",
      "sugar      518\n",
      "Name: Sales Data, dtype: int64\n",
      "********************************************************************************\n",
      "tea    155\n",
      "Name: Sales Data, dtype: int64\n"
     ]
    }
   ],
   "source": [
    "import pandas as pd\n",
    "import numpy as np\n",
    "\n",
    "sales = [0,5,155,0,518]\n",
    "items = [\"coffee\",\"bananas\",\"tea\",\"cocunut\",\"sugar\"]\n",
    "\n",
    "sales_series = pd.Series(sales, index = items, name = \"Sales Data\")\n",
    "print(sales_series)\n",
    "\n",
    "print(\"*\" * 80)\n",
    "\n",
    "## filtering\n",
    "print(f\"Entries that are greater than five ;---{sales_series.loc[sales_series>0]}\")\n",
    "\n",
    "## making a mask\n",
    "print(\"*\" * 80)\n",
    "mask = (sales_series > 0) & (sales_series.index == \"tea\")\n",
    "print(sales_series[mask])\n",
    "\n"
   ]
  },
  {
   "cell_type": "markdown",
   "metadata": {},
   "source": [
    "**Logical Operators and Methods**"
   ]
  },
  {
   "cell_type": "markdown",
   "metadata": {},
   "source": [
    "|    Description            || Pyhon Operator || Pandas Operator |\n",
    "| ----------                || -------------- || --------------- |\n",
    "|  Equal                    || ==             ||  .eq()          |\n",
    "|  Not Equal                ||   !=           ||   .ne()         |\n",
    "|  Less than Equal to       ||  <=            ||   .le()         |\n",
    "| Less than                 ||   <            ||   .lt()         |\n",
    "|  Greater than or equal to ||   >=           ||   .ge()         |\n",
    "|  Greater than             ||   >            ||   .gt()         |\n",
    "|  Membership Test          ||   in           ||   .isin()       |\n",
    "|  Inverse Membership Test  ||   not in       ||   .~isin()      |\n"
   ]
  },
  {
   "cell_type": "code",
   "execution_count": 18,
   "metadata": {},
   "outputs": [
    {
     "name": "stdout",
     "output_type": "stream",
     "text": [
      "coffee       0\n",
      "bananas      5\n",
      "tea        155\n",
      "cocunut      0\n",
      "sugar      518\n",
      "Name: Sales Data, dtype: int64\n",
      "********************************************************************************\n",
      "coffee     False\n",
      "bananas     True\n",
      "tea        False\n",
      "cocunut    False\n",
      "sugar      False\n",
      "Name: Sales Data, dtype: bool\n",
      "********************************************************************************\n",
      "coffee     False\n",
      "bananas     True\n",
      "tea        False\n",
      "cocunut    False\n",
      "sugar      False\n",
      "Name: Sales Data, dtype: bool\n"
     ]
    }
   ],
   "source": [
    "print(sales_series)\n",
    "print(\"*\"*80)\n",
    "print(sales_series == 5)  ## in python\n",
    "print(\"*\"*80)\n",
    "print(sales_series.eq(5)) ## in pandas"
   ]
  },
  {
   "cell_type": "code",
   "execution_count": 22,
   "metadata": {},
   "outputs": [
    {
     "name": "stdout",
     "output_type": "stream",
     "text": [
      "[ True False  True False False]\n",
      "********************************************************************************\n",
      "[False  True False  True  True]\n"
     ]
    }
   ],
   "source": [
    "## membership test\n",
    "print(sales_series.index.isin([\"coffee\",\"tea\"]))  ## checking in the series\n",
    "print(\"*\"*80)\n",
    "print(~sales_series.index.isin([\"coffee\",\"tea\"]))  ## checking not in series"
   ]
  },
  {
   "cell_type": "markdown",
   "metadata": {},
   "source": [
    "### SORTING SERIES\n",
    "\n",
    "+ You can Sort Series by two methods, by values and by index.\n",
    "\n",
    "    + .sort_values() :-- Sort the Series by its Values in Ascending Order.\n",
    "    + .sort_index() :-- Sort the Series by its Index in Ascending Order."
   ]
  },
  {
   "cell_type": "code",
   "execution_count": 29,
   "metadata": {},
   "outputs": [
    {
     "name": "stdout",
     "output_type": "stream",
     "text": [
      "coffee       0\n",
      "bananas      5\n",
      "tea        155\n",
      "cocunut      0\n",
      "sugar      518\n",
      "Name: Sales Data, dtype: int64\n",
      "################################################################################\n",
      "Sort the Series by Values :-- coffee       0\n",
      "cocunut      0\n",
      "bananas      5\n",
      "tea        155\n",
      "sugar      518\n",
      "Name: Sales Data, dtype: int64\n",
      "################################################################################\n",
      "Sort the Series by Values :-- sugar      518\n",
      "tea        155\n",
      "bananas      5\n",
      "cocunut      0\n",
      "coffee       0\n",
      "Name: Sales Data, dtype: int64\n",
      "#%%#%%#%%#%%#%%#%%#%%#%%#%%#%%#%%#%%#%%#%%#%%#%%#%%#%%#%%#%%#%%#%%#%%#%%#%%#%%#%%#%%#%%#%%#%%#%%#%%#%%#%%#%%#%%#%%#%%#%%#%%#%%#%%#%%#%%#%%#%%#%%#%%#%%\n",
      "Sort the Series by Index :-- bananas      5\n",
      "cocunut      0\n",
      "coffee       0\n",
      "sugar      518\n",
      "tea        155\n",
      "Name: Sales Data, dtype: int64\n",
      "################################################################################\n",
      "Sort the Series by Index :-- tea        155\n",
      "sugar      518\n",
      "coffee       0\n",
      "cocunut      0\n",
      "bananas      5\n",
      "Name: Sales Data, dtype: int64\n"
     ]
    }
   ],
   "source": [
    "sales = [0,5,155,0,518]\n",
    "items = [\"coffee\",\"bananas\",\"tea\",\"cocunut\",\"sugar\"]\n",
    "\n",
    "sales_series = pd.Series(sales, index = items, name = \"Sales Data\")\n",
    "print(sales_series)\n",
    "\n",
    "print(\"#\"*80)\n",
    "print(\"Sort the Series by Values :--\", sales_series.sort_values())  ## ascending\n",
    "print(\"#\"*80)\n",
    "print(\"Sort the Series by Values :--\", sales_series.sort_values(ascending = False))  ## descending\n",
    "\n",
    "print(\"#%%\"*50)\n",
    "print(\"Sort the Series by Index :--\", sales_series.sort_index())\n",
    "print(\"#\"*80)\n",
    "print(\"Sort the Series by Index :--\", sales_series.sort_index(ascending = False))"
   ]
  },
  {
   "cell_type": "code",
   "execution_count": null,
   "metadata": {},
   "outputs": [],
   "source": []
  }
 ],
 "metadata": {
  "kernelspec": {
   "display_name": "Python 3",
   "language": "python",
   "name": "python3"
  },
  "language_info": {
   "codemirror_mode": {
    "name": "ipython",
    "version": 3
   },
   "file_extension": ".py",
   "mimetype": "text/x-python",
   "name": "python",
   "nbconvert_exporter": "python",
   "pygments_lexer": "ipython3",
   "version": "3.8.3"
  }
 },
 "nbformat": 4,
 "nbformat_minor": 4
}
