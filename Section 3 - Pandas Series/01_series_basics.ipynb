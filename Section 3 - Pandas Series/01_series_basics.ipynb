{
 "cells": [
  {
   "cell_type": "markdown",
   "metadata": {},
   "source": [
    "### PANDAS SERIES BASICS\n",
    "\n",
    "Topics :-- \n",
    "\n",
    "        +Pandas Series Basics\n",
    "        + Series Indexing\n",
    "        + Sorting and Filtering\n",
    "        + Operations and Aggregations\n",
    "        + Handling Missing Data\n",
    "        + Applying Custom Functions\n",
    "        \n",
    "Pandas Series:---\n",
    "\n",
    "+ Series are Pandas Data structure built on top of Numpy Arrays.\n",
    "+ Series also contain index, and optional name, in addition to the array of Data.\n",
    "+ They can be created from other data types, but are usually imported from external Sources.\n",
    "+ Two or more Series grouped together to form Pandas DataFrame.\n",
    "+ Series must be 1D\n",
    "\n",
    "Pandas Series have these key properties :---\n",
    "\n",
    "+ values :- the data array in the Series.\n",
    "+ index :- the index array in the Series.\n",
    "+ name :- the optional name of the Series.\n",
    "+ dtype :- the data type of the element in the Series."
   ]
  },
  {
   "cell_type": "code",
   "execution_count": 1,
   "metadata": {},
   "outputs": [],
   "source": [
    "import pandas as pd\n",
    "import numpy as np"
   ]
  },
  {
   "cell_type": "code",
   "execution_count": 2,
   "metadata": {},
   "outputs": [
    {
     "data": {
      "text/plain": [
       "0       0\n",
       "1       5\n",
       "2     155\n",
       "3       0\n",
       "4     518\n",
       "5       0\n",
       "6    1827\n",
       "7     616\n",
       "8     317\n",
       "9     325\n",
       "Name: Sales, dtype: int64"
      ]
     },
     "execution_count": 2,
     "metadata": {},
     "output_type": "execute_result"
    }
   ],
   "source": [
    "sales = [0,5,155,0,518,0,1827,616,317,325]\n",
    "sales_series = pd.Series(sales, name = \"Sales\")\n",
    "sales_series"
   ]
  },
  {
   "cell_type": "code",
   "execution_count": 6,
   "metadata": {},
   "outputs": [
    {
     "name": "stdout",
     "output_type": "stream",
     "text": [
      "Sales\n",
      "RangeIndex(start=0, stop=10, step=1)\n",
      "int64\n",
      "[   0    5  155    0  518    0 1827  616  317  325]\n"
     ]
    }
   ],
   "source": [
    "print(sales_series.name)\n",
    "print(sales_series.index)\n",
    "print(sales_series.dtype)\n",
    "print(sales_series.values)"
   ]
  },
  {
   "cell_type": "markdown",
   "metadata": {},
   "source": [
    "### PANDAS DATA TYPES AND TYPE CONVERSION\n",
    "\n",
    "Numerical Data Types:--\n",
    "\n",
    "+ bool\n",
    "+ int64\n",
    "+ float64\n",
    "+ boolean\n",
    "+ int64\n",
    "+ float64\n",
    "\n",
    "Object / Text :--\n",
    "\n",
    "+ object\n",
    "+ string\n",
    "+ category\n",
    "\n",
    "Time Series :--\n",
    "\n",
    "+ datetime64\n",
    "+ timedelta\n",
    "+ period\n",
    "\n",
    "TYPE CONVERSION\n",
    "\n",
    "You can convert the data type by `.astype(\"required data type\")` method."
   ]
  },
  {
   "cell_type": "code",
   "execution_count": 7,
   "metadata": {},
   "outputs": [
    {
     "data": {
      "text/plain": [
       "0       0\n",
       "1       5\n",
       "2     155\n",
       "3       0\n",
       "4     518\n",
       "5       0\n",
       "6    1827\n",
       "7     616\n",
       "8     317\n",
       "9     325\n",
       "Name: Sales, dtype: int64"
      ]
     },
     "execution_count": 7,
     "metadata": {},
     "output_type": "execute_result"
    }
   ],
   "source": [
    "sales_series"
   ]
  },
  {
   "cell_type": "code",
   "execution_count": 8,
   "metadata": {},
   "outputs": [
    {
     "data": {
      "text/plain": [
       "0       0.0\n",
       "1       5.0\n",
       "2     155.0\n",
       "3       0.0\n",
       "4     518.0\n",
       "5       0.0\n",
       "6    1827.0\n",
       "7     616.0\n",
       "8     317.0\n",
       "9     325.0\n",
       "Name: Sales, dtype: float64"
      ]
     },
     "execution_count": 8,
     "metadata": {},
     "output_type": "execute_result"
    }
   ],
   "source": [
    "sales_series.astype(\"float64\")"
   ]
  },
  {
   "cell_type": "markdown",
   "metadata": {},
   "source": [
    "Now we have floats"
   ]
  },
  {
   "cell_type": "code",
   "execution_count": null,
   "metadata": {},
   "outputs": [],
   "source": []
  }
 ],
 "metadata": {
  "kernelspec": {
   "display_name": "Python 3",
   "language": "python",
   "name": "python3"
  },
  "language_info": {
   "codemirror_mode": {
    "name": "ipython",
    "version": 3
   },
   "file_extension": ".py",
   "mimetype": "text/x-python",
   "name": "python",
   "nbconvert_exporter": "python",
   "pygments_lexer": "ipython3",
   "version": "3.8.3"
  }
 },
 "nbformat": 4,
 "nbformat_minor": 4
}
