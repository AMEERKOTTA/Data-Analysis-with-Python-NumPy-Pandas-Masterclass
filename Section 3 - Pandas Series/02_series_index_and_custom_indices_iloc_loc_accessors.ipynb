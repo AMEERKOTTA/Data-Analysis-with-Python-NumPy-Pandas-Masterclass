{
 "cells": [
  {
   "cell_type": "markdown",
   "metadata": {},
   "source": [
    "### SERIES INDEX AND CUSTOM INDICES\n",
    "\n",
    "+ The Index lets you easily access \"rows\" in a Pandas Series or DataFrame.\n",
    "+ There are Custom Indices we can give while forming a Series.\n",
    "+ We can access the items from the Series using Custom Indices."
   ]
  },
  {
   "cell_type": "code",
   "execution_count": 10,
   "metadata": {},
   "outputs": [],
   "source": [
    "import pandas as pd\n",
    "import numpy as np"
   ]
  },
  {
   "cell_type": "code",
   "execution_count": 11,
   "metadata": {},
   "outputs": [
    {
     "name": "stdout",
     "output_type": "stream",
     "text": [
      "[0, 5, 155, 0, 518]\n",
      "0      0\n",
      "1      5\n",
      "2    155\n",
      "3      0\n",
      "4    518\n",
      "Name: Sales Data, dtype: int64\n",
      "The Second Element is :--- 5\n",
      "The Third Element is :--- 155\n",
      "The Third and Fourth Elements are :--- 2    155\n",
      "3      0\n",
      "Name: Sales Data, dtype: int64\n"
     ]
    }
   ],
   "source": [
    "sales = [0,5,155,0,518]\n",
    "print(sales)\n",
    "sales_series = pd.Series(sales, name = \"Sales Data\")\n",
    "print(sales_series)\n",
    "\n",
    "## indexing the 2 nd element.\n",
    "print(\"The Second Element is :---\",sales_series[1])\n",
    "print(\"The Third Element is :---\",sales_series[2])\n",
    "print(\"The Third and Fourth Elements are :---\",sales_series[2:4])"
   ]
  },
  {
   "cell_type": "code",
   "execution_count": 12,
   "metadata": {},
   "outputs": [
    {
     "name": "stdout",
     "output_type": "stream",
     "text": [
      "coffee       0\n",
      "bananas      5\n",
      "tea        155\n",
      "cocunut      0\n",
      "sugar      518\n",
      "Name: Sales Data, dtype: int64\n",
      "==============================================\n",
      "Indexing Cocunut :-- 0\n",
      "Indexing Bananas :-- 5\n",
      "Indexing coffee :-- 0\n",
      "============================================\n",
      "Indexing coffee to tea :-- coffee       0\n",
      "bananas      5\n",
      "tea        155\n",
      "Name: Sales Data, dtype: int64\n"
     ]
    }
   ],
   "source": [
    "## custom indices\n",
    "sales = [0,5,155,0,518]\n",
    "items = [\"coffee\",\"bananas\",\"tea\",\"cocunut\",\"sugar\"]\n",
    "\n",
    "sales_series = pd.Series(sales, index = items, name = \"Sales Data\")\n",
    "print(sales_series)\n",
    "\n",
    "print(\"==============================================\")\n",
    "\n",
    "## indexing the cocunut\n",
    "print(\"Indexing Cocunut :--\",sales_series[\"cocunut\"])\n",
    "print(\"Indexing Bananas :--\",sales_series[\"bananas\"])\n",
    "print(\"Indexing coffee :--\",sales_series[\"coffee\"])\n",
    "\n",
    "print(\"============================================\")\n",
    "print(\"Indexing coffee to tea :--\",sales_series[\"coffee\" : \"tea\"])"
   ]
  },
  {
   "cell_type": "markdown",
   "metadata": {},
   "source": [
    "#### THE ILOC METHOD\n",
    "\n",
    "+ Method to access the values by their positional index.\n",
    "+ It is more efficient than slicing and is recommended by Pandas Creation.\n",
    "\n",
    "Syntax : `df.iloc[row position, column position]`"
   ]
  },
  {
   "cell_type": "code",
   "execution_count": 13,
   "metadata": {},
   "outputs": [
    {
     "name": "stdout",
     "output_type": "stream",
     "text": [
      "[0, 5, 155, 0, 518]\n",
      "0      0\n",
      "1      5\n",
      "2    155\n",
      "3      0\n",
      "4    518\n",
      "Name: Sales Data, dtype: int64\n",
      "++++++++++++++++++++++++++++++++++++++++++++++++++++++++++++++++++++++++++++++++\n",
      "155\n",
      "++++++++++++++++++++++++++++++++++++++++++++++++++++++++++++++++++++++++++++++++\n",
      "2    155\n",
      "3      0\n",
      "Name: Sales Data, dtype: int64\n",
      "++++++++++++++++++++++++++++++++++++++++++++++++++++++++++++++++++++++++++++++++\n",
      "2    155\n",
      "3      0\n",
      "4    518\n",
      "Name: Sales Data, dtype: int64\n"
     ]
    }
   ],
   "source": [
    "sales = [0,5,155,0,518]\n",
    "print(sales)\n",
    "sales_series = pd.Series(sales, name = \"Sales Data\")\n",
    "print(sales_series)\n",
    "\n",
    "print(\"+\"*80)\n",
    "## indexing using iloc\n",
    "print(sales_series.iloc[2])\n",
    "print(\"+\"*80)\n",
    "print(sales_series.iloc[2:4])\n",
    "print(\"+\"*80)\n",
    "print(sales_series.iloc[[2,3,4]])"
   ]
  },
  {
   "cell_type": "markdown",
   "metadata": {},
   "source": [
    "#### THE LOC METHOD\n",
    "\n",
    "+ method to access the values by their custom labels.\n",
    "\n",
    "Syntax :- `df.loc[row label, column label]`"
   ]
  },
  {
   "cell_type": "code",
   "execution_count": 14,
   "metadata": {},
   "outputs": [
    {
     "name": "stdout",
     "output_type": "stream",
     "text": [
      "coffee       0\n",
      "bananas      5\n",
      "tea        155\n",
      "cocunut      0\n",
      "sugar      518\n",
      "Name: Sales Data, dtype: int64\n",
      "********************************************************************************\n",
      "0\n",
      "********************************************************************************\n",
      "155\n",
      "********************************************************************************\n",
      "5\n",
      "********************************************************************************\n",
      "bananas      5\n",
      "tea        155\n",
      "cocunut      0\n",
      "Name: Sales Data, dtype: int64\n"
     ]
    }
   ],
   "source": [
    "## custom indices\n",
    "sales = [0,5,155,0,518]\n",
    "items = [\"coffee\",\"bananas\",\"tea\",\"cocunut\",\"sugar\"]\n",
    "\n",
    "sales_series = pd.Series(sales, index = items, name = \"Sales Data\")\n",
    "print(sales_series)\n",
    "\n",
    "print(\"*\"*80)\n",
    "print(sales_series.loc[\"coffee\"])\n",
    "print(\"*\"*80)\n",
    "print(sales_series.loc[\"tea\"])\n",
    "print(\"*\"*80)\n",
    "print(sales_series.loc[\"bananas\"])\n",
    "print(\"*\"*80)\n",
    "print(sales_series.loc[\"bananas\":\"cocunut\"])"
   ]
  },
  {
   "cell_type": "code",
   "execution_count": 15,
   "metadata": {},
   "outputs": [
    {
     "name": "stdout",
     "output_type": "stream",
     "text": [
      "[0, 5, 155, 0, 518]\n",
      "0      0\n",
      "1      5\n",
      "2    155\n",
      "3      0\n",
      "4    518\n",
      "Name: Sales Data, dtype: int64\n",
      "********************************************************************************\n",
      "2    155\n",
      "3      0\n",
      "4    518\n",
      "Name: Sales Data, dtype: int64\n"
     ]
    }
   ],
   "source": [
    "sales = [0,5,155,0,518]\n",
    "print(sales)\n",
    "sales_series = pd.Series(sales, name = \"Sales Data\")\n",
    "print(sales_series)\n",
    "\n",
    "print(\"*\"*80)\n",
    "print(sales_series.loc[2:4])  ## here the 2,3,4 are the labels. since here labels are not named. they are integers."
   ]
  },
  {
   "cell_type": "markdown",
   "metadata": {},
   "source": [
    "#### DUPLICATE INDEX VALUES\n",
    "\n",
    "+ it is possible to have duplicate index values in Pandas Series or DataFrame.\n",
    "+ Accessing these indices by their labels using .loc method return all corresponding rows."
   ]
  },
  {
   "cell_type": "code",
   "execution_count": 16,
   "metadata": {},
   "outputs": [
    {
     "name": "stdout",
     "output_type": "stream",
     "text": [
      "coffee       0\n",
      "coffee       5\n",
      "tea        155\n",
      "cocunut      0\n",
      "sugar      518\n",
      "Name: Sales Data, dtype: int64\n",
      "********************************************************************************\n",
      "coffee    0\n",
      "coffee    5\n",
      "Name: Sales Data, dtype: int64\n"
     ]
    }
   ],
   "source": [
    "## custom indices\n",
    "sales = [0,5,155,0,518]\n",
    "items = [\"coffee\",\"coffee\",\"tea\",\"cocunut\",\"sugar\"]\n",
    "\n",
    "sales_series = pd.Series(sales, index = items, name = \"Sales Data\")\n",
    "print(sales_series)\n",
    "\n",
    "print(\"*\"*80)\n",
    "print(sales_series.loc[\"coffee\"])"
   ]
  },
  {
   "cell_type": "markdown",
   "metadata": {},
   "source": [
    "#### RESETTING THE INDEX\n",
    "\n",
    "+ We can reset the index in a Pandas Series or DataFrame back to the default range of Integers by using `.reset_index()` method."
   ]
  },
  {
   "cell_type": "code",
   "execution_count": 25,
   "metadata": {},
   "outputs": [
    {
     "name": "stdout",
     "output_type": "stream",
     "text": [
      "coffee       0\n",
      "coffee       5\n",
      "tea        155\n",
      "cocunut      0\n",
      "sugar      518\n",
      "Name: Sales Data, dtype: int64\n",
      "################################################################################\n",
      "     index  Sales Data\n",
      "0   coffee           0\n",
      "1   coffee           5\n",
      "2      tea         155\n",
      "3  cocunut           0\n",
      "4    sugar         518\n",
      "################################################################################\n",
      "0      0\n",
      "1      5\n",
      "2    155\n",
      "3      0\n",
      "4    518\n",
      "Name: Sales Data, dtype: int64\n"
     ]
    }
   ],
   "source": [
    "## custom indices\n",
    "sales = [0,5,155,0,518]\n",
    "items = [\"coffee\",\"coffee\",\"tea\",\"cocunut\",\"sugar\"]\n",
    "\n",
    "sales_series = pd.Series(sales, index = items, name = \"Sales Data\")\n",
    "print(sales_series)\n",
    "\n",
    "print(\"#\" * 80)\n",
    "print(sales_series.reset_index())\n",
    "\n",
    "## if we want to drop the index.\n",
    "print(\"#\" * 80)\n",
    "print(sales_series.reset_index(drop = True))"
   ]
  },
  {
   "cell_type": "code",
   "execution_count": null,
   "metadata": {},
   "outputs": [],
   "source": []
  }
 ],
 "metadata": {
  "kernelspec": {
   "display_name": "Python 3",
   "language": "python",
   "name": "python3"
  },
  "language_info": {
   "codemirror_mode": {
    "name": "ipython",
    "version": 3
   },
   "file_extension": ".py",
   "mimetype": "text/x-python",
   "name": "python",
   "nbconvert_exporter": "python",
   "pygments_lexer": "ipython3",
   "version": "3.8.3"
  }
 },
 "nbformat": 4,
 "nbformat_minor": 4
}
